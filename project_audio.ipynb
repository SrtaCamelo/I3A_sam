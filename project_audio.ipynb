{
 "cells": [
  {
   "cell_type": "markdown",
   "id": "09920e1f-edfb-4471-8c9f-f3e8775507bb",
   "metadata": {},
   "source": [
    "# Projet SAM -> Classifieur de genre musical"
   ]
  },
  {
   "cell_type": "markdown",
   "id": "54ba62f0-dae3-4099-9786-d048fa913c0a",
   "metadata": {},
   "source": [
    "## Classifieur des Audios \n",
    "#### Partie 1: Regression Logistic & CNN"
   ]
  },
  {
   "cell_type": "code",
   "execution_count": 18,
   "id": "4cdb4b48-af70-4c4c-b2b6-6a20c079c3ea",
   "metadata": {},
   "outputs": [],
   "source": [
    "import os\n",
    "import pandas as pd\n",
    "import numpy as np"
   ]
  },
  {
   "cell_type": "code",
   "execution_count": 3,
   "id": "572ee77a-e8dd-4339-84ce-c7909230e665",
   "metadata": {},
   "outputs": [],
   "source": [
    "main_path = \"C:/AMU/SAM/Projet/msdi/\""
   ]
  },
  {
   "cell_type": "code",
   "execution_count": 26,
   "id": "4110573c-288f-4832-a8e2-229b880fd004",
   "metadata": {},
   "outputs": [],
   "source": [
    "def get_label_list(msdi_path):\n",
    "    df = pd.read_csv(msdi_path+'labels.csv', header=None)\n",
    "    return list(df.iloc[:, 0])"
   ]
  },
  {
   "cell_type": "code",
   "execution_count": 20,
   "id": "d6f13a44-1e83-4fe3-b99b-740f6faf9863",
   "metadata": {},
   "outputs": [],
   "source": [
    "def load_mfcc(entry, msdi_path):\n",
    "    x = np.load(msdi_path+entry['mfcc'])\n",
    "    return x[entry['msd_track_id']]"
   ]
  },
  {
   "cell_type": "code",
   "execution_count": 36,
   "id": "9cf98595-6dc3-4a6c-9d54-f7554684ed9d",
   "metadata": {},
   "outputs": [],
   "source": [
    "def load_deep_audio_features(entry, msdi_path):\n",
    "    subset_file = 'X_{}_audio_MSD-I.npy'.format(entry['set'])\n",
    "    x = np.load(msdi_path+'deep_features/'+subset_file, mmap_mode='r')\n",
    "    idx = entry['deep_features']\n",
    "    return x[idx, :]"
   ]
  },
  {
   "cell_type": "code",
   "execution_count": 40,
   "id": "9ce76e38-7d85-46e0-a191-e439812daba3",
   "metadata": {},
   "outputs": [],
   "source": [
    "def read_through(entries):\n",
    "    X_mfcc = []\n",
    "    X_deep = []\n",
    "    Y = []\n",
    "    for i in range(len(entries)):\n",
    "        \n",
    "        entry = entries.iloc[i,:]\n",
    "        mfcc = load_mfcc(entry,main_path)\n",
    "        deep = load_deep_audio_features(entry,main_path)\n",
    "        y = labels[entry[\"genre\"]]\n",
    "        \n",
    "        X_mfcc.append(mfcc)\n",
    "        X_deep.append(deep)\n",
    "        Y.append(y)\n",
    "        \n",
    "    return X_mfcc,X_deep, Y_mfcc"
   ]
  },
  {
   "cell_type": "code",
   "execution_count": 27,
   "id": "301d5977-4016-491a-a562-c1aab38bbaca",
   "metadata": {},
   "outputs": [],
   "source": [
    "label_list = get_label_list(main_path)\n",
    "labels = {label_list[i]:i for i in range (0,len(label_list))} # Dictionary Etiquetes Possibles"
   ]
  },
  {
   "cell_type": "code",
   "execution_count": 4,
   "id": "0f2b5da1-b1e2-4c29-8fdf-22b930241eee",
   "metadata": {},
   "outputs": [],
   "source": [
    "entries = pd.read_csv(main_path+\"msdi_mapping.csv\")"
   ]
  },
  {
   "cell_type": "code",
   "execution_count": 34,
   "id": "b81c5c00-2c26-48e9-8735-75ab0bd2ad8a",
   "metadata": {},
   "outputs": [],
   "source": [
    "train = entries[entries['set'] == \"train\"]\n",
    "#test = entries[entries['set'] == \"test\"]"
   ]
  },
  {
   "cell_type": "code",
   "execution_count": null,
   "id": "a19d1f2d-6b70-45cb-acbf-62341c384e5a",
   "metadata": {},
   "outputs": [],
   "source": [
    "x_train_mfcc,x_train_deep,y_train_mfcc = read_through(train)\n",
    "#x_test_mfcc,y_test_mfcc = read_through(test)"
   ]
  },
  {
   "cell_type": "code",
   "execution_count": 7,
   "id": "4ca7b4ec-cf6b-436f-adf2-bc18e913f87f",
   "metadata": {},
   "outputs": [
    {
     "data": {
      "text/plain": [
       "0        TRABKJU128F422A7FE\n",
       "1        TRBLDQQ128F92E58B4\n",
       "2        TRDMMDE128F14A9052\n",
       "3        TRJOPZB128F4250E02\n",
       "4        TRJKBVL128F935567B\n",
       "                ...        \n",
       "30707    TRJRMVM128F4259C12\n",
       "30708    TRJUGOK128F4243DA6\n",
       "30709    TRTMWUS128F425D9AF\n",
       "30710    TRSBAKM128F931C033\n",
       "30711    TRUEMYW128F1469730\n",
       "Name: msd_track_id, Length: 30712, dtype: object"
      ]
     },
     "execution_count": 7,
     "metadata": {},
     "output_type": "execute_result"
    }
   ],
   "source": [
    "entries['msd_track_id']"
   ]
  },
  {
   "cell_type": "code",
   "execution_count": null,
   "id": "772eb6a3-a199-49e3-ba81-9ce4f8c91100",
   "metadata": {},
   "outputs": [],
   "source": []
  }
 ],
 "metadata": {
  "kernelspec": {
   "display_name": "Python 3 (ipykernel)",
   "language": "python",
   "name": "python3"
  },
  "language_info": {
   "codemirror_mode": {
    "name": "ipython",
    "version": 3
   },
   "file_extension": ".py",
   "mimetype": "text/x-python",
   "name": "python",
   "nbconvert_exporter": "python",
   "pygments_lexer": "ipython3",
   "version": "3.8.12"
  }
 },
 "nbformat": 4,
 "nbformat_minor": 5
}
