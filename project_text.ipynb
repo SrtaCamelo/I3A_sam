{
 "cells": [
  {
   "cell_type": "markdown",
   "id": "61b6efd9-5ad9-4d21-b615-2f9ee3afe1e7",
   "metadata": {},
   "source": [
    "# Projet SAM -> Classifieur de genre musical"
   ]
  },
  {
   "cell_type": "markdown",
   "id": "eed34161-66fd-4859-97e7-045a793eb8d9",
   "metadata": {},
   "source": [
    "## Classifieur de Text"
   ]
  },
  {
   "cell_type": "code",
   "execution_count": 1,
   "id": "653253c3-ae94-4119-9451-e86c18b37063",
   "metadata": {},
   "outputs": [],
   "source": [
    "import os\n",
    "import pandas as pd\n",
    "import numpy as np\n",
    "import sklearn"
   ]
  },
  {
   "cell_type": "code",
   "execution_count": 21,
   "id": "00877803-1479-4ae4-8bc2-975e46dd3763",
   "metadata": {},
   "outputs": [],
   "source": [
    "def get_label_list():\n",
    "    df = pd.read_csv('./msdi/'+'labels.csv', header=None)\n",
    "    label_list = list(df.iloc[:, 0])\n",
    "    labels = {label_list[i]:i for i in range (0,len(label_list))} # Dictionary Etiquetes Possibles\n",
    "    return labels"
   ]
  },
  {
   "cell_type": "code",
   "execution_count": 34,
   "id": "fac9ee30-6a8a-4d36-9aed-41b22bae3e0f",
   "metadata": {},
   "outputs": [],
   "source": [
    "def read_through(entries,labels):\n",
    "    X = []\n",
    "    Y = []\n",
    "    for i in range(len(entries)):\n",
    "        \n",
    "        entry = entries.iloc[i,:]\n",
    "        x = entry[4:len(entry)]\n",
    "        \n",
    "        y = labels[entry[\"genre\"]]\n",
    "        \n",
    "        X.append(x)\n",
    "        Y.append(y)\n",
    "        \n",
    "    return X, Y"
   ]
  },
  {
   "cell_type": "code",
   "execution_count": 29,
   "id": "f195ab8f-2186-425b-999e-c4f0a3c5da73",
   "metadata": {},
   "outputs": [
    {
     "name": "stdout",
     "output_type": "stream",
     "text": [
      "{'Blues': 0, 'Country': 1, 'Electronic': 2, 'Folk': 3, 'Jazz': 4, 'Latin': 5, 'Metal': 6, 'New Age': 7, 'Pop': 8, 'Punk': 9, 'Rap': 10, 'Reggae': 11, 'RnB': 12, 'Rock': 13, 'World': 14}\n"
     ]
    }
   ],
   "source": [
    "labels = get_label_list()\n",
    "print(labels)"
   ]
  },
  {
   "cell_type": "code",
   "execution_count": 30,
   "id": "ddada25b-f183-4aba-bc09-82f5089825c1",
   "metadata": {},
   "outputs": [],
   "source": [
    "entries = pd.read_csv('./msdi/mxm/joint_mxm.csv')"
   ]
  },
  {
   "cell_type": "code",
   "execution_count": 31,
   "id": "0e32254a-ea32-4fdc-aeb9-ec5ae8f88f00",
   "metadata": {},
   "outputs": [],
   "source": [
    "train = entries[entries['set'] == \"train\"]\n",
    "validation = entries[entries['set'] == \"val\"]\n",
    "test = entries[entries['set'] == \"test\"]"
   ]
  },
  {
   "cell_type": "code",
   "execution_count": 35,
   "id": "d6738264-6d7d-4b7a-804b-b3e848e9e803",
   "metadata": {},
   "outputs": [],
   "source": [
    "x_train, y_train = read_through(train,labels)\n",
    "x_test, y_test = read_through(test,labels)\n",
    "x_validation, y_validation = read_through(validation,labels)"
   ]
  },
  {
   "cell_type": "code",
   "execution_count": 40,
   "id": "f3218cde-a9de-49f5-abc7-ece7b6c6e224",
   "metadata": {},
   "outputs": [],
   "source": [
    "x_train = np.asarray(x_train, dtype=np.float32)\n",
    "x_validation = np.asarray(x_validation, dtype=np.float32)\n",
    "x_test = np.asarray(x_test, dtype=np.float32)"
   ]
  },
  {
   "cell_type": "code",
   "execution_count": null,
   "id": "dec44eee-6856-41bb-bc75-b08ccbe15a22",
   "metadata": {},
   "outputs": [
    {
     "data": {
      "text/plain": [
       "2000"
      ]
     },
     "execution_count": 43,
     "metadata": {},
     "output_type": "execute_result"
    }
   ],
   "source": [
    "len(x_train[0])"
   ]
  },
  {
   "cell_type": "code",
   "execution_count": 44,
   "id": "63e87a38-aaf4-4e9a-a830-d18b51105849",
   "metadata": {},
   "outputs": [
    {
     "data": {
      "text/plain": [
       "array([11.,  6.,  0., ...,  0.,  0.,  0.], dtype=float32)"
      ]
     },
     "execution_count": 44,
     "metadata": {},
     "output_type": "execute_result"
    }
   ],
   "source": [
    "x_train[0]"
   ]
  },
  {
   "cell_type": "markdown",
   "id": "81c83468-faaf-49a6-9757-71757a2729d5",
   "metadata": {},
   "source": [
    "## KNN"
   ]
  },
  {
   "cell_type": "code",
   "execution_count": 45,
   "id": "a3b099bb-69ed-48a6-a3f5-ae94f0c99911",
   "metadata": {},
   "outputs": [],
   "source": [
    "from sklearn.neighbors import KNeighborsClassifier"
   ]
  },
  {
   "cell_type": "code",
   "execution_count": 46,
   "id": "b98fab39-a07e-4e5e-b1a7-fe4e60e5076b",
   "metadata": {},
   "outputs": [
    {
     "data": {
      "text/plain": [
       "KNeighborsClassifier(n_neighbors=15)"
      ]
     },
     "execution_count": 46,
     "metadata": {},
     "output_type": "execute_result"
    }
   ],
   "source": [
    "neigh = KNeighborsClassifier(n_neighbors=15)\n",
    "neigh.fit(x_train, y_train)"
   ]
  },
  {
   "cell_type": "code",
   "execution_count": 47,
   "id": "96e68ca2-d5ec-4e02-95c1-1b4a1d67ca5a",
   "metadata": {},
   "outputs": [
    {
     "data": {
      "text/plain": [
       "0.30634469696969696"
      ]
     },
     "execution_count": 47,
     "metadata": {},
     "output_type": "execute_result"
    }
   ],
   "source": [
    "neigh.score(x_test, y_test)"
   ]
  },
  {
   "cell_type": "code",
   "execution_count": 48,
   "id": "8b68d2c7-99f1-4ecb-b4aa-cc54105d3c93",
   "metadata": {},
   "outputs": [],
   "source": [
    "text_pred = neigh.predict(x_test)"
   ]
  },
  {
   "cell_type": "code",
   "execution_count": 49,
   "id": "fdc37c29-9eb8-456c-9b9e-05fb612ece6a",
   "metadata": {},
   "outputs": [
    {
     "data": {
      "text/plain": [
       "array([ 8, 13,  6, ...,  8, 10,  6])"
      ]
     },
     "execution_count": 49,
     "metadata": {},
     "output_type": "execute_result"
    }
   ],
   "source": [
    "text_pred"
   ]
  },
  {
   "cell_type": "code",
   "execution_count": null,
   "id": "8772ee81-9081-42be-b173-aa69f4b4f8ae",
   "metadata": {},
   "outputs": [],
   "source": []
  }
 ],
 "metadata": {
  "kernelspec": {
   "display_name": "Python 3 (ipykernel)",
   "language": "python",
   "name": "python3"
  },
  "language_info": {
   "codemirror_mode": {
    "name": "ipython",
    "version": 3
   },
   "file_extension": ".py",
   "mimetype": "text/x-python",
   "name": "python",
   "nbconvert_exporter": "python",
   "pygments_lexer": "ipython3",
   "version": "3.8.12"
  }
 },
 "nbformat": 4,
 "nbformat_minor": 5
}
