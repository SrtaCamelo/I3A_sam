{
 "cells": [
  {
   "cell_type": "markdown",
   "id": "23c7dd6b-359a-4147-ac5d-56aac9216be4",
   "metadata": {},
   "source": [
    "# Projet SAM -> Classifieur de genre musical"
   ]
  },
  {
   "cell_type": "markdown",
   "id": "ef234cc7-62cc-4ff3-941e-7246660e1cda",
   "metadata": {},
   "source": [
    "## Late Fusion (Text, Audio, Image)"
   ]
  },
  {
   "cell_type": "code",
   "execution_count": 1,
   "id": "4610a47a-163e-4c42-aa4e-8411c8bb8e62",
   "metadata": {},
   "outputs": [],
   "source": [
    "import os\n",
    "import pandas as pd\n",
    "import numpy as np\n",
    "import sklearn\n",
    "import cv2\n",
    "import imutils\n",
    "from skimage.feature import hog"
   ]
  },
  {
   "cell_type": "markdown",
   "id": "a728fee0-1d7e-4db7-b71e-ec4179d744a6",
   "metadata": {},
   "source": [
    "### Codify Labels"
   ]
  },
  {
   "cell_type": "code",
   "execution_count": 3,
   "id": "13dfef76-74cb-4639-b7e2-2f241e2533ac",
   "metadata": {},
   "outputs": [],
   "source": [
    "def get_label_list():\n",
    "    df = pd.read_csv('./msdi/'+'labels.csv', header=None)\n",
    "    label_list = list(df.iloc[:, 0])\n",
    "    labels = {label_list[i]:i for i in range (0,len(label_list))} # Dictionary Etiquetes Possibles\n",
    "    return labels"
   ]
  },
  {
   "cell_type": "code",
   "execution_count": 4,
   "id": "6dfac302-b965-45ff-9979-e67e8d9766f5",
   "metadata": {},
   "outputs": [
    {
     "name": "stdout",
     "output_type": "stream",
     "text": [
      "{'Blues': 0, 'Country': 1, 'Electronic': 2, 'Folk': 3, 'Jazz': 4, 'Latin': 5, 'Metal': 6, 'New Age': 7, 'Pop': 8, 'Punk': 9, 'Rap': 10, 'Reggae': 11, 'RnB': 12, 'Rock': 13, 'World': 14}\n"
     ]
    }
   ],
   "source": [
    "labels = get_label_list()\n",
    "print(labels)"
   ]
  },
  {
   "cell_type": "code",
   "execution_count": 56,
   "id": "073359a9-b1dd-416b-8986-c10d3867e52d",
   "metadata": {},
   "outputs": [],
   "source": [
    "def read_through(entries,labels):\n",
    "    X = []\n",
    "    Y = []\n",
    "    for i in range(len(entries)):\n",
    "        \n",
    "        entry = entries.iloc[i,:]\n",
    "        x = entry[4:len(entry)]\n",
    "        \n",
    "        y = labels[entry[\"genre\"]]\n",
    "        \n",
    "        X.append(x)\n",
    "        Y.append(y)\n",
    "        \n",
    "    return X, Y"
   ]
  },
  {
   "cell_type": "markdown",
   "id": "631d459f-c1ed-40df-90f9-21ebd70aff50",
   "metadata": {},
   "source": [
    "## Load Text Data"
   ]
  },
  {
   "cell_type": "code",
   "execution_count": 5,
   "id": "e444e1d7-07ef-40fe-b18e-99a081e320a0",
   "metadata": {},
   "outputs": [],
   "source": [
    "text_data = pd.read_csv('./msdi/mxm/joint_mxm.csv')"
   ]
  },
  {
   "cell_type": "code",
   "execution_count": 6,
   "id": "744f59e0-24ac-4919-84a1-042aa408872f",
   "metadata": {},
   "outputs": [],
   "source": [
    "train_text = text_data[text_data['set'] == \"train\"]\n",
    "validation_text = text_data[text_data['set'] == \"val\"]\n",
    "test_text = text_data[text_data['set'] == \"test\"]"
   ]
  },
  {
   "cell_type": "code",
   "execution_count": 9,
   "id": "47bd4a70-afff-47b2-9874-bf6def6f3b3c",
   "metadata": {},
   "outputs": [],
   "source": [
    "x_train_text, y_train_text = read_through_text(train_text,labels)\n",
    "x_test_text, y_test_text = read_through_text(test_text,labels)\n",
    "x_validation_text, y_validation_text = read_through_text(validation_text,labels)"
   ]
  },
  {
   "cell_type": "code",
   "execution_count": 10,
   "id": "e305784b-250c-4171-98e5-032a11cda865",
   "metadata": {},
   "outputs": [],
   "source": [
    "x_train_text = np.asarray(x_train_text, dtype=np.float32)\n",
    "x_validation_text = np.asarray(x_validation_text, dtype=np.float32)\n",
    "x_test_text = np.asarray(x_test_text, dtype=np.float32)"
   ]
  },
  {
   "cell_type": "code",
   "execution_count": 16,
   "id": "dcca2526-9181-47d7-bfaf-7a74e365003c",
   "metadata": {},
   "outputs": [
    {
     "data": {
      "text/plain": [
       "2112"
      ]
     },
     "execution_count": 16,
     "metadata": {},
     "output_type": "execute_result"
    }
   ],
   "source": [
    "len(x_test_text)"
   ]
  },
  {
   "cell_type": "code",
   "execution_count": 64,
   "id": "7e96b542-1787-4b52-bb36-ab3fb604d8bb",
   "metadata": {},
   "outputs": [
    {
     "data": {
      "text/plain": [
       "10340"
      ]
     },
     "execution_count": 64,
     "metadata": {},
     "output_type": "execute_result"
    }
   ],
   "source": [
    "len(y_train_text)"
   ]
  },
  {
   "cell_type": "markdown",
   "id": "47610151-8d20-4be0-abaa-6ea58b32c177",
   "metadata": {},
   "source": [
    "## Load Image Data"
   ]
  },
  {
   "cell_type": "code",
   "execution_count": 54,
   "id": "801675b9-708b-49ef-877f-e9a6538b5627",
   "metadata": {},
   "outputs": [],
   "source": [
    "img_data = pd.read_csv('./msdi/mxm/joint_hog.csv')"
   ]
  },
  {
   "cell_type": "code",
   "execution_count": 55,
   "id": "9c406276-49cc-48cd-a5ff-f04ca755dcb3",
   "metadata": {},
   "outputs": [],
   "source": [
    "train_img = img_data[img_data['set'] == \"train\"]\n",
    "validation_img = img_data[img_data['set'] == \"val\"]\n",
    "test_img = img_data[img_data['set'] == \"test\"]"
   ]
  },
  {
   "cell_type": "code",
   "execution_count": 58,
   "id": "bf11bf92-a778-4582-95d2-af2950e27daa",
   "metadata": {},
   "outputs": [],
   "source": [
    "x_train_img, y_train_img = read_through(train_img,labels)\n",
    "x_test_img, y_test_img = read_through(test_img,labels)\n",
    "x_validation_img, y_validation = read_through(validation_img,labels)"
   ]
  },
  {
   "cell_type": "code",
   "execution_count": 59,
   "id": "b2ab8230-01b1-4539-8f0c-ec796da99b75",
   "metadata": {},
   "outputs": [],
   "source": [
    "x_train_img = np.asarray(x_train_img, dtype=np.float32)\n",
    "x_validation_img = np.asarray(x_validation_img, dtype=np.float32)\n",
    "x_test_img = np.asarray(x_test_img, dtype=np.float32)"
   ]
  },
  {
   "cell_type": "code",
   "execution_count": 61,
   "id": "e96cf264-c4bd-485d-9b6d-e097d762eed8",
   "metadata": {},
   "outputs": [
    {
     "data": {
      "text/plain": [
       "1151"
      ]
     },
     "execution_count": 61,
     "metadata": {},
     "output_type": "execute_result"
    }
   ],
   "source": [
    "len(x_train_img[0])"
   ]
  },
  {
   "cell_type": "code",
   "execution_count": 62,
   "id": "086839c6-22c0-4f4d-be4a-8ddda0cc63ca",
   "metadata": {},
   "outputs": [
    {
     "data": {
      "text/plain": [
       "10340"
      ]
     },
     "execution_count": 62,
     "metadata": {},
     "output_type": "execute_result"
    }
   ],
   "source": [
    "len(y_train_img)"
   ]
  },
  {
   "cell_type": "markdown",
   "id": "7e64ffbf-8a67-40ae-a406-d93c1176fde7",
   "metadata": {},
   "source": [
    "## Load Audio Data"
   ]
  },
  {
   "cell_type": "code",
   "execution_count": null,
   "id": "49936521-8911-4a6b-8594-49d39724c2e8",
   "metadata": {},
   "outputs": [],
   "source": [
    "### TODO: OPEN AUDIO DATA (pre filtered (only those that have images and text))"
   ]
  },
  {
   "cell_type": "markdown",
   "id": "5fc8a335-27f2-4eff-8958-e2b79bd52604",
   "metadata": {},
   "source": [
    "#### Predicted Labels by Logistic Regression (for late fusion)"
   ]
  },
  {
   "cell_type": "code",
   "execution_count": null,
   "id": "53c1d559-6597-4da0-bf70-549c144a25a7",
   "metadata": {},
   "outputs": [],
   "source": [
    "img_accu = clf.score(x_test_img,y_test_img)"
   ]
  },
  {
   "cell_type": "code",
   "execution_count": null,
   "id": "92968477-5573-45c8-b1b3-bb94786652e5",
   "metadata": {},
   "outputs": [],
   "source": [
    "img_accu"
   ]
  },
  {
   "cell_type": "code",
   "execution_count": null,
   "id": "b97ae02f-27fd-446e-9362-c81cd4298830",
   "metadata": {},
   "outputs": [],
   "source": [
    "img_pred = neigh.predict(x_test_text)"
   ]
  },
  {
   "cell_type": "code",
   "execution_count": null,
   "id": "ebd69586-ae88-4e36-80d3-2290d0cd6067",
   "metadata": {},
   "outputs": [],
   "source": [
    "len(img_pred)"
   ]
  },
  {
   "cell_type": "markdown",
   "id": "430be1e2-f5eb-41b1-b5e6-54b4a970259b",
   "metadata": {},
   "source": [
    "## Early Fusion (text_pred, img_pred, audio_pred) KNN"
   ]
  },
  {
   "cell_type": "code",
   "execution_count": null,
   "id": "ac72d7a4-10a9-4295-9506-298d1c6a0553",
   "metadata": {},
   "outputs": [],
   "source": [
    "## TODO: CONCATENATE DATA"
   ]
  },
  {
   "cell_type": "code",
   "execution_count": 2,
   "id": "6fe7cd76-a004-4edb-accd-ec22cb37c562",
   "metadata": {},
   "outputs": [],
   "source": [
    "from sklearn.neighbors import KNeighborsClassifier"
   ]
  },
  {
   "cell_type": "code",
   "execution_count": 11,
   "id": "47b03333-192f-49b2-90df-7a4b555541bc",
   "metadata": {},
   "outputs": [
    {
     "data": {
      "text/plain": [
       "KNeighborsClassifier(n_neighbors=15)"
      ]
     },
     "execution_count": 11,
     "metadata": {},
     "output_type": "execute_result"
    }
   ],
   "source": [
    "neigh = KNeighborsClassifier(n_neighbors=15)\n",
    "neigh.fit(x_train_fusion, y_train_fusion)"
   ]
  },
  {
   "cell_type": "markdown",
   "id": "634d4633-ff80-434b-8617-745ccf2be9ec",
   "metadata": {
    "tags": []
   },
   "source": [
    "### Early Fusion Acuracy"
   ]
  },
  {
   "cell_type": "code",
   "execution_count": 65,
   "id": "8bb3def6-e202-4f94-91a7-288c3a52e2f5",
   "metadata": {},
   "outputs": [],
   "source": [
    "text_accu = neigh.score(x_test_fusion,y_test_fusion)"
   ]
  },
  {
   "cell_type": "code",
   "execution_count": 67,
   "id": "c9fa3c7e-06b2-403e-999f-0b04b15ec4a9",
   "metadata": {},
   "outputs": [
    {
     "data": {
      "text/plain": [
       "0.30634469696969696"
      ]
     },
     "execution_count": 67,
     "metadata": {},
     "output_type": "execute_result"
    }
   ],
   "source": [
    "text_accu"
   ]
  },
  {
   "cell_type": "code",
   "execution_count": null,
   "id": "b0b9d763-171a-418d-b524-3f6dbdb04248",
   "metadata": {},
   "outputs": [],
   "source": []
  },
  {
   "cell_type": "code",
   "execution_count": null,
   "id": "f0252082-0c44-4602-95bd-be73e6ba7aea",
   "metadata": {},
   "outputs": [],
   "source": []
  }
 ],
 "metadata": {
  "kernelspec": {
   "display_name": "Python 3 (ipykernel)",
   "language": "python",
   "name": "python3"
  },
  "language_info": {
   "codemirror_mode": {
    "name": "ipython",
    "version": 3
   },
   "file_extension": ".py",
   "mimetype": "text/x-python",
   "name": "python",
   "nbconvert_exporter": "python",
   "pygments_lexer": "ipython3",
   "version": "3.8.12"
  }
 },
 "nbformat": 4,
 "nbformat_minor": 5
}
